{
 "cells": [
  {
   "cell_type": "markdown",
   "metadata": {},
   "source": [
    "![](https://media.giphy.com/media/H4DjXQXamtTiIuCcRU/giphy.gif)"
   ]
  },
  {
   "cell_type": "markdown",
   "metadata": {},
   "source": [
    "#### So,let's begin..."
   ]
  },
  {
   "cell_type": "markdown",
   "metadata": {},
   "source": [
    "- **Method 1 :** [Label encoding](#1)\n",
    "- **Method 2 :** [OnHot encoding](#2)\n",
    "- **Method 3 :** [Feature Hashing](#3)\n",
    "- **Method 4 :** [Encoding categories with dataset statistics](#4)\n",
    "- **Cyclic features :** [Encoding cyclic features](#6)\n",
    "- **Method 5:** [Target Encoding](#7)\n",
    "- **Method 6 :** [K-Fold target encoding](#8)\n",
    "- **Summary :** [Summary of model performance](#5)"
   ]
  },
  {
   "cell_type": "markdown",
   "metadata": {},
   "source": [
    "## Importing required libraries"
   ]
  },
  {
   "cell_type": "code",
   "execution_count": 1,
   "metadata": {
    "_cell_guid": "79c7e3d0-c299-4dcb-8224-4455121ee9b0",
    "_uuid": "d629ff2d2480ee46fbb7e2d37f6b5fab8052498a"
   },
   "outputs": [
    {
     "name": "stderr",
     "output_type": "stream",
     "text": [
      "/home/sobanda/.local/lib/python3.10/site-packages/matplotlib/projections/__init__.py:63: UserWarning: Unable to import Axes3D. This may be due to multiple versions of Matplotlib being installed (e.g. as a system package and as a pip package). As a result, the 3D projection is not available.\n",
      "  warnings.warn(\"Unable to import Axes3D. This may be due to multiple versions of \"\n",
      "/usr/lib/python3/dist-packages/scipy/__init__.py:146: UserWarning: A NumPy version >=1.17.3 and <1.25.0 is required for this version of SciPy (detected version 1.26.1\n",
      "  warnings.warn(f\"A NumPy version >={np_minversion} and <{np_maxversion}\"\n"
     ]
    }
   ],
   "source": [
    "import pandas as pd\n",
    "import numpy as np\n",
    "import matplotlib.pyplot as plt\n",
    "from sklearn.model_selection import train_test_split\n",
    "from sklearn.linear_model import LogisticRegression\n",
    "from sklearn.metrics import accuracy_score\n",
    "from sklearn.model_selection import KFold\n",
    "from sklearn import base"
   ]
  },
  {
   "cell_type": "code",
   "execution_count": 2,
   "metadata": {},
   "outputs": [],
   "source": [
    "df_train=pd.read_csv('./features/train.csv')\n",
    "df_test=pd.read_csv('./features/test.csv')"
   ]
  },
  {
   "cell_type": "code",
   "execution_count": 3,
   "metadata": {},
   "outputs": [
    {
     "name": "stdout",
     "output_type": "stream",
     "text": [
      "train data set has got 300000 rows and 25 columns\n",
      "test data set has got 200000 rows and 24 columns\n"
     ]
    }
   ],
   "source": [
    "print('train data set has got {} rows and {} columns'.format(df_train.shape[0],df_train.shape[1]))\n",
    "print('test data set has got {} rows and {} columns'.format(df_test.shape[0],df_test.shape[1]))\n"
   ]
  },
  {
   "cell_type": "code",
   "execution_count": 4,
   "metadata": {},
   "outputs": [
    {
     "data": {
      "text/html": [
       "<div>\n",
       "<style scoped>\n",
       "    .dataframe tbody tr th:only-of-type {\n",
       "        vertical-align: middle;\n",
       "    }\n",
       "\n",
       "    .dataframe tbody tr th {\n",
       "        vertical-align: top;\n",
       "    }\n",
       "\n",
       "    .dataframe thead th {\n",
       "        text-align: right;\n",
       "    }\n",
       "</style>\n",
       "<table border=\"1\" class=\"dataframe\">\n",
       "  <thead>\n",
       "    <tr style=\"text-align: right;\">\n",
       "      <th></th>\n",
       "      <th>id</th>\n",
       "      <th>bin_0</th>\n",
       "      <th>bin_1</th>\n",
       "      <th>bin_2</th>\n",
       "      <th>bin_3</th>\n",
       "      <th>bin_4</th>\n",
       "      <th>nom_0</th>\n",
       "      <th>nom_1</th>\n",
       "      <th>nom_2</th>\n",
       "      <th>nom_3</th>\n",
       "      <th>...</th>\n",
       "      <th>nom_9</th>\n",
       "      <th>ord_0</th>\n",
       "      <th>ord_1</th>\n",
       "      <th>ord_2</th>\n",
       "      <th>ord_3</th>\n",
       "      <th>ord_4</th>\n",
       "      <th>ord_5</th>\n",
       "      <th>day</th>\n",
       "      <th>month</th>\n",
       "      <th>target</th>\n",
       "    </tr>\n",
       "  </thead>\n",
       "  <tbody>\n",
       "    <tr>\n",
       "      <th>0</th>\n",
       "      <td>0</td>\n",
       "      <td>0</td>\n",
       "      <td>0</td>\n",
       "      <td>0</td>\n",
       "      <td>T</td>\n",
       "      <td>Y</td>\n",
       "      <td>Green</td>\n",
       "      <td>Triangle</td>\n",
       "      <td>Snake</td>\n",
       "      <td>Finland</td>\n",
       "      <td>...</td>\n",
       "      <td>2f4cb3d51</td>\n",
       "      <td>2</td>\n",
       "      <td>Grandmaster</td>\n",
       "      <td>Cold</td>\n",
       "      <td>h</td>\n",
       "      <td>D</td>\n",
       "      <td>kr</td>\n",
       "      <td>2</td>\n",
       "      <td>2</td>\n",
       "      <td>0</td>\n",
       "    </tr>\n",
       "    <tr>\n",
       "      <th>1</th>\n",
       "      <td>1</td>\n",
       "      <td>0</td>\n",
       "      <td>1</td>\n",
       "      <td>0</td>\n",
       "      <td>T</td>\n",
       "      <td>Y</td>\n",
       "      <td>Green</td>\n",
       "      <td>Trapezoid</td>\n",
       "      <td>Hamster</td>\n",
       "      <td>Russia</td>\n",
       "      <td>...</td>\n",
       "      <td>f83c56c21</td>\n",
       "      <td>1</td>\n",
       "      <td>Grandmaster</td>\n",
       "      <td>Hot</td>\n",
       "      <td>a</td>\n",
       "      <td>A</td>\n",
       "      <td>bF</td>\n",
       "      <td>7</td>\n",
       "      <td>8</td>\n",
       "      <td>0</td>\n",
       "    </tr>\n",
       "    <tr>\n",
       "      <th>2</th>\n",
       "      <td>2</td>\n",
       "      <td>0</td>\n",
       "      <td>0</td>\n",
       "      <td>0</td>\n",
       "      <td>F</td>\n",
       "      <td>Y</td>\n",
       "      <td>Blue</td>\n",
       "      <td>Trapezoid</td>\n",
       "      <td>Lion</td>\n",
       "      <td>Russia</td>\n",
       "      <td>...</td>\n",
       "      <td>ae6800dd0</td>\n",
       "      <td>1</td>\n",
       "      <td>Expert</td>\n",
       "      <td>Lava Hot</td>\n",
       "      <td>h</td>\n",
       "      <td>R</td>\n",
       "      <td>Jc</td>\n",
       "      <td>7</td>\n",
       "      <td>2</td>\n",
       "      <td>0</td>\n",
       "    </tr>\n",
       "    <tr>\n",
       "      <th>3</th>\n",
       "      <td>3</td>\n",
       "      <td>0</td>\n",
       "      <td>1</td>\n",
       "      <td>0</td>\n",
       "      <td>F</td>\n",
       "      <td>Y</td>\n",
       "      <td>Red</td>\n",
       "      <td>Trapezoid</td>\n",
       "      <td>Snake</td>\n",
       "      <td>Canada</td>\n",
       "      <td>...</td>\n",
       "      <td>8270f0d71</td>\n",
       "      <td>1</td>\n",
       "      <td>Grandmaster</td>\n",
       "      <td>Boiling Hot</td>\n",
       "      <td>i</td>\n",
       "      <td>D</td>\n",
       "      <td>kW</td>\n",
       "      <td>2</td>\n",
       "      <td>1</td>\n",
       "      <td>1</td>\n",
       "    </tr>\n",
       "    <tr>\n",
       "      <th>4</th>\n",
       "      <td>4</td>\n",
       "      <td>0</td>\n",
       "      <td>0</td>\n",
       "      <td>0</td>\n",
       "      <td>F</td>\n",
       "      <td>N</td>\n",
       "      <td>Red</td>\n",
       "      <td>Trapezoid</td>\n",
       "      <td>Lion</td>\n",
       "      <td>Canada</td>\n",
       "      <td>...</td>\n",
       "      <td>b164b72a7</td>\n",
       "      <td>1</td>\n",
       "      <td>Grandmaster</td>\n",
       "      <td>Freezing</td>\n",
       "      <td>a</td>\n",
       "      <td>R</td>\n",
       "      <td>qP</td>\n",
       "      <td>7</td>\n",
       "      <td>8</td>\n",
       "      <td>0</td>\n",
       "    </tr>\n",
       "  </tbody>\n",
       "</table>\n",
       "<p>5 rows × 25 columns</p>\n",
       "</div>"
      ],
      "text/plain": [
       "   id  bin_0  bin_1  bin_2 bin_3 bin_4  nom_0      nom_1    nom_2    nom_3  \\\n",
       "0   0      0      0      0     T     Y  Green   Triangle    Snake  Finland   \n",
       "1   1      0      1      0     T     Y  Green  Trapezoid  Hamster   Russia   \n",
       "2   2      0      0      0     F     Y   Blue  Trapezoid     Lion   Russia   \n",
       "3   3      0      1      0     F     Y    Red  Trapezoid    Snake   Canada   \n",
       "4   4      0      0      0     F     N    Red  Trapezoid     Lion   Canada   \n",
       "\n",
       "   ...      nom_9 ord_0        ord_1        ord_2 ord_3 ord_4  ord_5 day  \\\n",
       "0  ...  2f4cb3d51     2  Grandmaster         Cold     h     D     kr   2   \n",
       "1  ...  f83c56c21     1  Grandmaster          Hot     a     A     bF   7   \n",
       "2  ...  ae6800dd0     1       Expert     Lava Hot     h     R     Jc   7   \n",
       "3  ...  8270f0d71     1  Grandmaster  Boiling Hot     i     D     kW   2   \n",
       "4  ...  b164b72a7     1  Grandmaster     Freezing     a     R     qP   7   \n",
       "\n",
       "  month target  \n",
       "0     2      0  \n",
       "1     8      0  \n",
       "2     2      0  \n",
       "3     1      1  \n",
       "4     8      0  \n",
       "\n",
       "[5 rows x 25 columns]"
      ]
     },
     "execution_count": 4,
     "metadata": {},
     "output_type": "execute_result"
    }
   ],
   "source": [
    "df_train.head()"
   ]
  },
  {
   "cell_type": "code",
   "execution_count": 7,
   "metadata": {},
   "outputs": [
    {
     "name": "stdout",
     "output_type": "stream",
     "text": [
      "<class 'pandas.core.frame.DataFrame'>\n",
      "RangeIndex: 300000 entries, 0 to 299999\n",
      "Data columns (total 25 columns):\n",
      " #   Column  Non-Null Count   Dtype \n",
      "---  ------  --------------   ----- \n",
      " 0   id      300000 non-null  int64 \n",
      " 1   bin_0   300000 non-null  int64 \n",
      " 2   bin_1   300000 non-null  int64 \n",
      " 3   bin_2   300000 non-null  int64 \n",
      " 4   bin_3   300000 non-null  object\n",
      " 5   bin_4   300000 non-null  object\n",
      " 6   nom_0   300000 non-null  object\n",
      " 7   nom_1   300000 non-null  object\n",
      " 8   nom_2   300000 non-null  object\n",
      " 9   nom_3   300000 non-null  object\n",
      " 10  nom_4   300000 non-null  object\n",
      " 11  nom_5   300000 non-null  object\n",
      " 12  nom_6   300000 non-null  object\n",
      " 13  nom_7   300000 non-null  object\n",
      " 14  nom_8   300000 non-null  object\n",
      " 15  nom_9   300000 non-null  object\n",
      " 16  ord_0   300000 non-null  int64 \n",
      " 17  ord_1   300000 non-null  object\n",
      " 18  ord_2   300000 non-null  object\n",
      " 19  ord_3   300000 non-null  object\n",
      " 20  ord_4   300000 non-null  object\n",
      " 21  ord_5   300000 non-null  object\n",
      " 22  day     300000 non-null  int64 \n",
      " 23  month   300000 non-null  int64 \n",
      " 24  target  300000 non-null  int64 \n",
      "dtypes: int64(8), object(17)\n",
      "memory usage: 57.2+ MB\n"
     ]
    }
   ],
   "source": [
    "df_train.info()"
   ]
  },
  {
   "cell_type": "markdown",
   "metadata": {},
   "source": [
    "### Defining the train and target"
   ]
  },
  {
   "cell_type": "code",
   "execution_count": 5,
   "metadata": {},
   "outputs": [],
   "source": [
    "X=df_train.drop(['target'],axis=1)\n",
    "y=df_train['target']\n",
    "#X_train,X_test,y_train,y_test=train_test_split(X,y,random_state=42,test_size=0.2)"
   ]
  },
  {
   "cell_type": "code",
   "execution_count": 9,
   "metadata": {},
   "outputs": [
    {
     "data": {
      "image/png": "[encoded data removed]",
      "text/plain": [
       "<Figure size 640x480 with 1 Axes>"
      ]
     },
     "metadata": {},
     "output_type": "display_data"
    }
   ],
   "source": [
    "x=y.value_counts()\n",
    "plt.bar(x.index,x)\n",
    "plt.gca().set_xticks([0,1])\n",
    "plt.title('distribution of target variable')\n",
    "plt.show()"
   ]
  },
  {
   "cell_type": "markdown",
   "metadata": {},
   "source": [
    "Data variables present in this data:\n",
    "- **Binary data** : A  binary variable a variable that has only 2 values..ie 0/1\n",
    "- **Categorical data** : A categorical variable is a variable that can take some limited number of values.for example,day of the week.It can be one of 1,2,3,4,5,6,7 only.\n",
    "- **Ordinal data** : An ordinal variable is a categorical variable that has some order associated with it.for example,the ratings that are given to a movie by a user.\n",
    "- **Nominal data** :  Nominal value is a variable that has no numerical importance,such as occupation,person name etc..\n",
    "- **Timeseries data** : Time series data has a temporal value attached to it, so this would be something like a date or a time stamp that you can look for trends in time.\n",
    "\n"
   ]
  },
  {
   "cell_type": "markdown",
   "metadata": {},
   "source": [
    "## Method 1: Label encoding <a id='1'></a>\n",
    "In this method we change every categorical data to a number.That is each type will be subtuted by a number.for example we will substitute 1 for Grandmaster,2 for master ,3 for expert etc..\n",
    "For implementing this we will first import *Labelencoder* from  *sklearn* module."
   ]
  },
  {
   "cell_type": "code",
   "execution_count": 21,
   "metadata": {},
   "outputs": [],
   "source": [
    "from sklearn.preprocessing import LabelEncoder"
   ]
  },
  {
   "cell_type": "markdown",
   "metadata": {},
   "source": [
    "Now we will do these three steps to label encode our data:\n",
    "- Initialize the labelencoder class\n",
    "- Call the fit() method to fit the data\n",
    "- Transform data to labelencoded data"
   ]
  },
  {
   "cell_type": "code",
   "execution_count": 23,
   "metadata": {},
   "outputs": [
    {
     "name": "stdout",
     "output_type": "stream",
     "text": [
      "CPU times: user 793 ms, sys: 16.1 ms, total: 809 ms\n",
      "Wall time: 808 ms\n"
     ]
    },
    {
     "data": {
      "text/html": [
       "<div>\n",
       "<style scoped>\n",
       "    .dataframe tbody tr th:only-of-type {\n",
       "        vertical-align: middle;\n",
       "    }\n",
       "\n",
       "    .dataframe tbody tr th {\n",
       "        vertical-align: top;\n",
       "    }\n",
       "\n",
       "    .dataframe thead th {\n",
       "        text-align: right;\n",
       "    }\n",
       "</style>\n",
       "<table border=\"1\" class=\"dataframe\">\n",
       "  <thead>\n",
       "    <tr style=\"text-align: right;\">\n",
       "      <th></th>\n",
       "      <th>id</th>\n",
       "      <th>bin_0</th>\n",
       "      <th>bin_1</th>\n",
       "      <th>bin_2</th>\n",
       "      <th>bin_3</th>\n",
       "      <th>bin_4</th>\n",
       "      <th>nom_0</th>\n",
       "      <th>nom_1</th>\n",
       "      <th>nom_2</th>\n",
       "      <th>nom_3</th>\n",
       "      <th>...</th>\n",
       "      <th>nom_8</th>\n",
       "      <th>nom_9</th>\n",
       "      <th>ord_0</th>\n",
       "      <th>ord_1</th>\n",
       "      <th>ord_2</th>\n",
       "      <th>ord_3</th>\n",
       "      <th>ord_4</th>\n",
       "      <th>ord_5</th>\n",
       "      <th>day</th>\n",
       "      <th>month</th>\n",
       "    </tr>\n",
       "  </thead>\n",
       "  <tbody>\n",
       "    <tr>\n",
       "      <th>0</th>\n",
       "      <td>0</td>\n",
       "      <td>0</td>\n",
       "      <td>0</td>\n",
       "      <td>0</td>\n",
       "      <td>1</td>\n",
       "      <td>1</td>\n",
       "      <td>1</td>\n",
       "      <td>5</td>\n",
       "      <td>5</td>\n",
       "      <td>3</td>\n",
       "      <td>...</td>\n",
       "      <td>1686</td>\n",
       "      <td>2175</td>\n",
       "      <td>2</td>\n",
       "      <td>2</td>\n",
       "      <td>1</td>\n",
       "      <td>7</td>\n",
       "      <td>3</td>\n",
       "      <td>136</td>\n",
       "      <td>2</td>\n",
       "      <td>2</td>\n",
       "    </tr>\n",
       "    <tr>\n",
       "      <th>1</th>\n",
       "      <td>1</td>\n",
       "      <td>0</td>\n",
       "      <td>1</td>\n",
       "      <td>0</td>\n",
       "      <td>1</td>\n",
       "      <td>1</td>\n",
       "      <td>1</td>\n",
       "      <td>4</td>\n",
       "      <td>3</td>\n",
       "      <td>5</td>\n",
       "      <td>...</td>\n",
       "      <td>650</td>\n",
       "      <td>11635</td>\n",
       "      <td>1</td>\n",
       "      <td>2</td>\n",
       "      <td>3</td>\n",
       "      <td>0</td>\n",
       "      <td>0</td>\n",
       "      <td>93</td>\n",
       "      <td>7</td>\n",
       "      <td>8</td>\n",
       "    </tr>\n",
       "    <tr>\n",
       "      <th>2</th>\n",
       "      <td>2</td>\n",
       "      <td>0</td>\n",
       "      <td>0</td>\n",
       "      <td>0</td>\n",
       "      <td>0</td>\n",
       "      <td>1</td>\n",
       "      <td>0</td>\n",
       "      <td>4</td>\n",
       "      <td>4</td>\n",
       "      <td>5</td>\n",
       "      <td>...</td>\n",
       "      <td>1932</td>\n",
       "      <td>8078</td>\n",
       "      <td>1</td>\n",
       "      <td>1</td>\n",
       "      <td>4</td>\n",
       "      <td>7</td>\n",
       "      <td>17</td>\n",
       "      <td>31</td>\n",
       "      <td>7</td>\n",
       "      <td>2</td>\n",
       "    </tr>\n",
       "    <tr>\n",
       "      <th>3</th>\n",
       "      <td>3</td>\n",
       "      <td>0</td>\n",
       "      <td>1</td>\n",
       "      <td>0</td>\n",
       "      <td>0</td>\n",
       "      <td>1</td>\n",
       "      <td>2</td>\n",
       "      <td>4</td>\n",
       "      <td>5</td>\n",
       "      <td>0</td>\n",
       "      <td>...</td>\n",
       "      <td>629</td>\n",
       "      <td>6056</td>\n",
       "      <td>1</td>\n",
       "      <td>2</td>\n",
       "      <td>0</td>\n",
       "      <td>8</td>\n",
       "      <td>3</td>\n",
       "      <td>134</td>\n",
       "      <td>2</td>\n",
       "      <td>1</td>\n",
       "    </tr>\n",
       "    <tr>\n",
       "      <th>4</th>\n",
       "      <td>4</td>\n",
       "      <td>0</td>\n",
       "      <td>0</td>\n",
       "      <td>0</td>\n",
       "      <td>0</td>\n",
       "      <td>0</td>\n",
       "      <td>2</td>\n",
       "      <td>4</td>\n",
       "      <td>4</td>\n",
       "      <td>0</td>\n",
       "      <td>...</td>\n",
       "      <td>1760</td>\n",
       "      <td>8231</td>\n",
       "      <td>1</td>\n",
       "      <td>2</td>\n",
       "      <td>2</td>\n",
       "      <td>0</td>\n",
       "      <td>17</td>\n",
       "      <td>158</td>\n",
       "      <td>7</td>\n",
       "      <td>8</td>\n",
       "    </tr>\n",
       "  </tbody>\n",
       "</table>\n",
       "<p>5 rows × 24 columns</p>\n",
       "</div>"
      ],
      "text/plain": [
       "   id  bin_0  bin_1  bin_2  bin_3  bin_4  nom_0  nom_1  nom_2  nom_3  ...  \\\n",
       "0   0      0      0      0      1      1      1      5      5      3  ...   \n",
       "1   1      0      1      0      1      1      1      4      3      5  ...   \n",
       "2   2      0      0      0      0      1      0      4      4      5  ...   \n",
       "3   3      0      1      0      0      1      2      4      5      0  ...   \n",
       "4   4      0      0      0      0      0      2      4      4      0  ...   \n",
       "\n",
       "   nom_8  nom_9  ord_0  ord_1  ord_2  ord_3  ord_4  ord_5  day  month  \n",
       "0   1686   2175      2      2      1      7      3    136    2      2  \n",
       "1    650  11635      1      2      3      0      0     93    7      8  \n",
       "2   1932   8078      1      1      4      7     17     31    7      2  \n",
       "3    629   6056      1      2      0      8      3    134    2      1  \n",
       "4   1760   8231      1      2      2      0     17    158    7      8  \n",
       "\n",
       "[5 rows x 24 columns]"
      ]
     },
     "execution_count": 23,
     "metadata": {},
     "output_type": "execute_result"
    }
   ],
   "source": [
    "%%time\n",
    "\n",
    "train=pd.DataFrame()\n",
    "label=LabelEncoder()\n",
    "for c in  X.columns:\n",
    "    if(X[c].dtype=='object'):\n",
    "        train[c]=label.fit_transform(X[c])\n",
    "    else:\n",
    "        train[c]=X[c]\n",
    "        \n",
    "train.head(5)    "
   ]
  },
  {
   "cell_type": "markdown",
   "metadata": {},
   "source": [
    "Here you can see the label encoded output train data.We will check the shape of train data now and verify that there is no change in the number of columns."
   ]
  },
  {
   "cell_type": "code",
   "execution_count": 14,
   "metadata": {},
   "outputs": [
    {
     "name": "stdout",
     "output_type": "stream",
     "text": [
      "train data set has got 300000 rows and 24 columns\n"
     ]
    }
   ],
   "source": [
    "\n",
    "print('train data set has got {} rows and {} columns'.format(train.shape[0],train.shape[1]))\n"
   ]
  },
  {
   "cell_type": "markdown",
   "metadata": {},
   "source": [
    "### Logistic regression"
   ]
  },
  {
   "cell_type": "code",
   "execution_count": 12,
   "metadata": {},
   "outputs": [],
   "source": [
    "def logistic(X,y):\n",
    "    X_train,X_test,y_train,y_test=train_test_split(X,y,random_state=42,test_size=0.2)\n",
    "    lr=LogisticRegression()\n",
    "    lr.fit(X_train,y_train)\n",
    "    y_pre=lr.predict(X_test)\n",
    "    print('Accuracy : ',accuracy_score(y_test,y_pre))\n"
   ]
  },
  {
   "cell_type": "code",
   "execution_count": 16,
   "metadata": {},
   "outputs": [
    {
     "name": "stdout",
     "output_type": "stream",
     "text": [
      "Accuracy :  0.69065\n"
     ]
    }
   ],
   "source": [
    "logistic(train,y)"
   ]
  },
  {
   "cell_type": "markdown",
   "metadata": {},
   "source": [
    "## Method 2 : On hot encoding  <a id='2'></a>\n",
    "Our second method is encoding each category as a one hot encoding (OHE) vector (or dummy variables). OHE is a representation method that takes each category value and turns it into a binary vector of size |i|(number of values in category i) where all columns are equal to zero besides the category column. Here is a little example:   \n",
    "\n",
    "\n",
    "![](https://miro.medium.com/max/878/1*WXpoiS7HXRC-uwJPYsy1Dg.png)\n",
    "\n",
    "To implement on-hot encoding we will use *get_dummies()* function in *pandas*.\n",
    "\n"
   ]
  },
  {
   "cell_type": "code",
   "execution_count": 13,
   "metadata": {},
   "outputs": [],
   "source": [
    "#train=pd.get_dummies(X).astype(np.int8)\n",
    "#print('train data set has got {} rows and {} columns'.format(train.shape[0],train.shape[1]))\n",
    "\n"
   ]
  },
  {
   "cell_type": "markdown",
   "metadata": {},
   "source": [
    "This produces output as a pandas dataframe.Alternatively we can use *OneHotEncoder()* method available in* sklearn* to convert out data to on-hot encoded data.But this method produces a sparse metrix.The advantage of this methos is that is uses very less memory/cpu resourses.\n",
    "To do that,we need to :\n",
    "- Import OneHotEncoder from sklean.preprocessing\n",
    "- Initialize the OneHotEncoder\n",
    "- Fit and then transform our data"
   ]
  },
  {
   "cell_type": "code",
   "execution_count": 16,
   "metadata": {},
   "outputs": [],
   "source": [
    "from sklearn.preprocessing import OneHotEncoder"
   ]
  },
  {
   "cell_type": "code",
   "execution_count": 24,
   "metadata": {},
   "outputs": [
    {
     "name": "stdout",
     "output_type": "stream",
     "text": [
      "   Color_Blue  Color_Green  Color_Red\n",
      "0         0.0          0.0        1.0\n",
      "1         1.0          0.0        0.0\n",
      "2         0.0          1.0        0.0\n",
      "3         1.0          0.0        0.0\n",
      "4         0.0          0.0        1.0\n"
     ]
    },
    {
     "name": "stderr",
     "output_type": "stream",
     "text": [
      "/home/sobanda/.local/lib/python3.10/site-packages/sklearn/preprocessing/_encoders.py:975: FutureWarning: `sparse` was renamed to `sparse_output` in version 1.2 and will be removed in 1.4. `sparse_output` is ignored unless you leave `sparse` to its default value.\n",
      "  warnings.warn(\n"
     ]
    }
   ],
   "source": [
    "#Example\n",
    "\n",
    "data = pd.DataFrame({  \n",
    "    'Color': ['Red', 'Blue', 'Green', 'Blue', 'Red']  \n",
    "})\n",
    "\n",
    "encoder = OneHotEncoder(sparse=False)\n",
    "\n",
    "one_hot_encoded = encoder.fit_transform(data[['Color']])\n",
    "\n",
    "one_hot_df = pd.DataFrame(one_hot_encoded, columns=encoder.get_feature_names_out(['Color']))\n",
    "\n",
    "print(one_hot_df)"
   ]
  },
  {
   "cell_type": "code",
   "execution_count": 25,
   "metadata": {},
   "outputs": [
    {
     "name": "stdout",
     "output_type": "stream",
     "text": [
      "train data set has got 300000 rows and 316461 columns\n",
      "CPU times: user 995 ms, sys: 67.8 ms, total: 1.06 s\n",
      "Wall time: 1.06 s\n"
     ]
    }
   ],
   "source": [
    "%%time \n",
    "\n",
    "one=OneHotEncoder()\n",
    "\n",
    "one.fit(X)\n",
    "train=one.transform(X)\n",
    "\n",
    "print('train data set has got {} rows and {} columns'.format(train.shape[0],train.shape[1]))"
   ]
  },
  {
   "cell_type": "code",
   "execution_count": 26,
   "metadata": {},
   "outputs": [
    {
     "name": "stdout",
     "output_type": "stream",
     "text": [
      "Accuracy :  0.75715\n"
     ]
    },
    {
     "name": "stderr",
     "output_type": "stream",
     "text": [
      "/home/sobanda/.local/lib/python3.10/site-packages/sklearn/linear_model/_logistic.py:460: ConvergenceWarning: lbfgs failed to converge (status=1):\n",
      "STOP: TOTAL NO. of ITERATIONS REACHED LIMIT.\n",
      "\n",
      "Increase the number of iterations (max_iter) or scale the data as shown in:\n",
      "    https://scikit-learn.org/stable/modules/preprocessing.html\n",
      "Please also refer to the documentation for alternative solver options:\n",
      "    https://scikit-learn.org/stable/modules/linear_model.html#logistic-regression\n",
      "  n_iter_i = _check_optimize_result(\n"
     ]
    }
   ],
   "source": [
    "logistic(train,y)"
   ]
  },
  {
   "cell_type": "markdown",
   "metadata": {},
   "source": [
    "## Method 3 : Feature hashing (a.k.a the hashing trick)  <a id='3'></a>"
   ]
  },
  {
   "cell_type": "markdown",
   "metadata": {},
   "source": [
    "Feature hashing is a very cool technique to represent categories in a “one hot encoding style” as a sparse matrix but with a much lower dimensions. In feature hashing we apply a hashing function to the category and then represent it by its indices. for example, if we choose a dimension of 5 to represent “New York” we will calculate H(New York) mod 5 = 3 (for example) so New York representation will be (0,0,1,0,0)."
   ]
  },
  {
   "cell_type": "code",
   "execution_count": 27,
   "metadata": {},
   "outputs": [],
   "source": [
    "from sklearn.feature_extraction import FeatureHasher"
   ]
  },
  {
   "cell_type": "code",
   "execution_count": 32,
   "metadata": {},
   "outputs": [
    {
     "name": "stdout",
     "output_type": "stream",
     "text": [
      "[{'feature1': 'apple', 'feature2': 'red'}, {'feature1': 'banana', 'feature2': 'yellow'}, {'feature1': 'apple', 'feature2': 'green'}, {'feature1': 'orange', 'feature2': 'orange'}]\n"
     ]
    }
   ],
   "source": [
    "#Example\n",
    "data = [  \n",
    "    {'feature1': 'apple', 'feature2': 'red'},  \n",
    "    {'feature1': 'banana', 'feature2': 'yellow'},  \n",
    "    {'feature1': 'apple', 'feature2': 'green'},  \n",
    "    {'feature1': 'orange', 'feature2': 'orange'}  \n",
    "]\n",
    "print(data)"
   ]
  },
  {
   "cell_type": "code",
   "execution_count": 30,
   "metadata": {},
   "outputs": [
    {
     "name": "stdout",
     "output_type": "stream",
     "text": [
      "[[ 0.  1.  0.  0.  0.  0.  1.  0.  0.  0.]\n",
      " [ 0. -1.  0.  0.  0.  0. -1.  0.  0.  0.]\n",
      " [ 0.  1.  0.  0.  0.  0.  0. -1.  0.  0.]\n",
      " [ 0.  0.  0.  1.  0.  0.  0.  0.  0.  1.]]\n"
     ]
    }
   ],
   "source": [
    "\n",
    "# Here, we can specify the number of features (i.e., the size of the output vector) we want to generate with hashing.\n",
    "hasher = FeatureHasher(n_features=10)  # Using 10 features as an example\n",
    "\n",
    "hashed_features = hasher.transform(data)\n",
    "\n",
    "hashed_array = hashed_features.toarray()\n",
    "\n",
    "print(hashed_array)\n"
   ]
  },
  {
   "cell_type": "markdown",
   "metadata": {},
   "source": [
    "**Explanation of the Output:**\n",
    "\n",
    "Each row corresponds to an example from the original dataset.\n",
    "Each column is one of the hashed feature representations.\n",
    "The values (1s and 0s) indicate the presence or absence of the hashed feature.\n",
    "\n",
    "**Summary:**\n",
    "\n",
    "FeatureHasher is a powerful tool for efficiently transforming categorical data into a numerical format while managing memory usage effectively, which can be particularly useful when the number of unique categories is large.\n",
    "\n"
   ]
  },
  {
   "cell_type": "code",
   "execution_count": 33,
   "metadata": {},
   "outputs": [
    {
     "name": "stdout",
     "output_type": "stream",
     "text": [
      "CPU times: user 2.52 s, sys: 135 ms, total: 2.66 s\n",
      "Wall time: 2.65 s\n"
     ]
    }
   ],
   "source": [
    "%%time\n",
    "\n",
    "X_train_hash=X.copy()\n",
    "for c in X.columns:\n",
    "    X_train_hash[c]=X[c].astype('str')      \n",
    "hashing=FeatureHasher(input_type='string')\n",
    "train=hashing.transform(X_train_hash.values)"
   ]
  },
  {
   "cell_type": "code",
   "execution_count": 34,
   "metadata": {},
   "outputs": [
    {
     "name": "stdout",
     "output_type": "stream",
     "text": [
      "train data set has got 300000 rows and 1048576 columns\n"
     ]
    }
   ],
   "source": [
    "\n",
    "print('train data set has got {} rows and {} columns'.format(train.shape[0],train.shape[1]))\n",
    "\n"
   ]
  },
  {
   "cell_type": "code",
   "execution_count": 35,
   "metadata": {},
   "outputs": [
    {
     "name": "stdout",
     "output_type": "stream",
     "text": [
      "Accuracy :  0.7516833333333334\n"
     ]
    },
    {
     "name": "stderr",
     "output_type": "stream",
     "text": [
      "/home/sobanda/.local/lib/python3.10/site-packages/sklearn/linear_model/_logistic.py:460: ConvergenceWarning: lbfgs failed to converge (status=1):\n",
      "STOP: TOTAL NO. of ITERATIONS REACHED LIMIT.\n",
      "\n",
      "Increase the number of iterations (max_iter) or scale the data as shown in:\n",
      "    https://scikit-learn.org/stable/modules/preprocessing.html\n",
      "Please also refer to the documentation for alternative solver options:\n",
      "    https://scikit-learn.org/stable/modules/linear_model.html#logistic-regression\n",
      "  n_iter_i = _check_optimize_result(\n"
     ]
    }
   ],
   "source": [
    "logistic(train,y)"
   ]
  },
  {
   "cell_type": "markdown",
   "metadata": {},
   "source": [
    "## Method 4 :Encoding categories with dataset statistics  <a id='4'></a>"
   ]
  },
  {
   "cell_type": "markdown",
   "metadata": {},
   "source": [
    " Now we will try to give our models a numeric representation for every category with a small number of columns but with an encoding that will put similar categories close to each other. The easiest way to do it is replace every category with the number of times that we saw it in the dataset. This way if New York and New Jersey are both big cities, they will probably both appear many times in our dataset and the model will know that they are similar."
   ]
  },
  {
   "cell_type": "code",
   "execution_count": 6,
   "metadata": {},
   "outputs": [
    {
     "name": "stdout",
     "output_type": "stream",
     "text": [
      "CPU times: user 342 ms, sys: 12.2 ms, total: 354 ms\n",
      "Wall time: 353 ms\n"
     ]
    }
   ],
   "source": [
    "%%time\n",
    "\n",
    "import numpy as np  \n",
    "import pandas as pd  \n",
    "\n",
    "X_train_stat = X.copy()  \n",
    "\n",
    "for c in X_train_stat.columns:  \n",
    "    if X_train_stat[c].dtype == 'object':  \n",
    "        X_train_stat[c] = X_train_stat[c].astype('category')  \n",
    "        \n",
    "        # Get value counts and sort them  \n",
    "        counts = X_train_stat[c].value_counts().sort_index()  \n",
    "        counts = counts.fillna(0)  \n",
    "        \n",
    "        # Add random noise to counts  \n",
    "        counts += np.random.rand(len(counts)) / 1000  \n",
    "        \n",
    "        # Create a mapping from original category to the noisy counts  \n",
    "        count_mapping = counts.to_dict()  \n",
    "        \n",
    "        # Create a new column that maps the original categories to the noisy counts  \n",
    "        X_train_stat[c + '_counts'] = X_train_stat[c].map(count_mapping)  \n",
    "\n",
    "# Now X_train_stat will have the modified categorical columns and their counts\n",
    "    \n",
    "        \n",
    "        "
   ]
  },
  {
   "cell_type": "code",
   "execution_count": 11,
   "metadata": {},
   "outputs": [
    {
     "data": {
      "text/html": [
       "<div>\n",
       "<style scoped>\n",
       "    .dataframe tbody tr th:only-of-type {\n",
       "        vertical-align: middle;\n",
       "    }\n",
       "\n",
       "    .dataframe tbody tr th {\n",
       "        vertical-align: top;\n",
       "    }\n",
       "\n",
       "    .dataframe thead th {\n",
       "        text-align: right;\n",
       "    }\n",
       "</style>\n",
       "<table border=\"1\" class=\"dataframe\">\n",
       "  <thead>\n",
       "    <tr style=\"text-align: right;\">\n",
       "      <th></th>\n",
       "      <th>id</th>\n",
       "      <th>bin_0</th>\n",
       "      <th>bin_1</th>\n",
       "      <th>bin_2</th>\n",
       "      <th>bin_3</th>\n",
       "      <th>bin_4</th>\n",
       "      <th>nom_0</th>\n",
       "      <th>nom_1</th>\n",
       "      <th>nom_2</th>\n",
       "      <th>nom_3</th>\n",
       "      <th>...</th>\n",
       "      <th>nom_5_counts</th>\n",
       "      <th>nom_6_counts</th>\n",
       "      <th>nom_7_counts</th>\n",
       "      <th>nom_8_counts</th>\n",
       "      <th>nom_9_counts</th>\n",
       "      <th>ord_1_counts</th>\n",
       "      <th>ord_2_counts</th>\n",
       "      <th>ord_3_counts</th>\n",
       "      <th>ord_4_counts</th>\n",
       "      <th>ord_5_counts</th>\n",
       "    </tr>\n",
       "  </thead>\n",
       "  <tbody>\n",
       "    <tr>\n",
       "      <th>0</th>\n",
       "      <td>0</td>\n",
       "      <td>0</td>\n",
       "      <td>0</td>\n",
       "      <td>0</td>\n",
       "      <td>T</td>\n",
       "      <td>Y</td>\n",
       "      <td>Green</td>\n",
       "      <td>Triangle</td>\n",
       "      <td>Snake</td>\n",
       "      <td>Finland</td>\n",
       "      <td>...</td>\n",
       "      <td>2594.000298</td>\n",
       "      <td>1148.000788</td>\n",
       "      <td>241.000503</td>\n",
       "      <td>271.000811</td>\n",
       "      <td>19.000759</td>\n",
       "      <td>77428.000859</td>\n",
       "      <td>33768.000237</td>\n",
       "      <td>24740.000205</td>\n",
       "      <td>3974.000216</td>\n",
       "      <td>506.000005</td>\n",
       "    </tr>\n",
       "    <tr>\n",
       "      <th>1</th>\n",
       "      <td>1</td>\n",
       "      <td>0</td>\n",
       "      <td>1</td>\n",
       "      <td>0</td>\n",
       "      <td>T</td>\n",
       "      <td>Y</td>\n",
       "      <td>Green</td>\n",
       "      <td>Trapezoid</td>\n",
       "      <td>Hamster</td>\n",
       "      <td>Russia</td>\n",
       "      <td>...</td>\n",
       "      <td>792.000644</td>\n",
       "      <td>842.000600</td>\n",
       "      <td>287.000973</td>\n",
       "      <td>111.000681</td>\n",
       "      <td>13.000940</td>\n",
       "      <td>77428.000859</td>\n",
       "      <td>22227.000192</td>\n",
       "      <td>35276.000503</td>\n",
       "      <td>18258.000658</td>\n",
       "      <td>2603.000525</td>\n",
       "    </tr>\n",
       "    <tr>\n",
       "      <th>2</th>\n",
       "      <td>2</td>\n",
       "      <td>0</td>\n",
       "      <td>0</td>\n",
       "      <td>0</td>\n",
       "      <td>F</td>\n",
       "      <td>Y</td>\n",
       "      <td>Blue</td>\n",
       "      <td>Trapezoid</td>\n",
       "      <td>Lion</td>\n",
       "      <td>Russia</td>\n",
       "      <td>...</td>\n",
       "      <td>2524.000061</td>\n",
       "      <td>1169.000516</td>\n",
       "      <td>475.000819</td>\n",
       "      <td>278.000296</td>\n",
       "      <td>29.000784</td>\n",
       "      <td>25065.000358</td>\n",
       "      <td>63908.000621</td>\n",
       "      <td>24740.000205</td>\n",
       "      <td>16927.000930</td>\n",
       "      <td>2572.000686</td>\n",
       "    </tr>\n",
       "  </tbody>\n",
       "</table>\n",
       "<p>3 rows × 41 columns</p>\n",
       "</div>"
      ],
      "text/plain": [
       "   id  bin_0  bin_1  bin_2 bin_3 bin_4  nom_0      nom_1    nom_2    nom_3  \\\n",
       "0   0      0      0      0     T     Y  Green   Triangle    Snake  Finland   \n",
       "1   1      0      1      0     T     Y  Green  Trapezoid  Hamster   Russia   \n",
       "2   2      0      0      0     F     Y   Blue  Trapezoid     Lion   Russia   \n",
       "\n",
       "   ... nom_5_counts nom_6_counts nom_7_counts nom_8_counts nom_9_counts  \\\n",
       "0  ...  2594.000298  1148.000788   241.000503   271.000811    19.000759   \n",
       "1  ...   792.000644   842.000600   287.000973   111.000681    13.000940   \n",
       "2  ...  2524.000061  1169.000516   475.000819   278.000296    29.000784   \n",
       "\n",
       "   ord_1_counts  ord_2_counts  ord_3_counts  ord_4_counts ord_5_counts  \n",
       "0  77428.000859  33768.000237  24740.000205   3974.000216   506.000005  \n",
       "1  77428.000859  22227.000192  35276.000503  18258.000658  2603.000525  \n",
       "2  25065.000358  63908.000621  24740.000205  16927.000930  2572.000686  \n",
       "\n",
       "[3 rows x 41 columns]"
      ]
     },
     "execution_count": 11,
     "metadata": {},
     "output_type": "execute_result"
    }
   ],
   "source": [
    "X_train_stat.head(3)"
   ]
  },
  {
   "cell_type": "code",
   "execution_count": 42,
   "metadata": {},
   "outputs": [
    {
     "name": "stdout",
     "output_type": "stream",
     "text": [
      "train data set has got 300000 rows and 41 columns\n"
     ]
    }
   ],
   "source": [
    "print('train data set has got {} rows and {} columns'.format(X_train_stat.shape[0],X_train_stat.shape[1]))\n",
    "        "
   ]
  },
  {
   "cell_type": "code",
   "execution_count": 12,
   "metadata": {},
   "outputs": [
    {
     "name": "stdout",
     "output_type": "stream",
     "text": [
      "id                 int64\n",
      "bin_0              int64\n",
      "bin_1              int64\n",
      "bin_2              int64\n",
      "bin_3           category\n",
      "bin_4           category\n",
      "nom_0           category\n",
      "nom_1           category\n",
      "nom_2           category\n",
      "nom_3           category\n",
      "nom_4           category\n",
      "nom_5           category\n",
      "nom_6           category\n",
      "nom_7           category\n",
      "nom_8           category\n",
      "nom_9           category\n",
      "ord_0              int64\n",
      "ord_1           category\n",
      "ord_2           category\n",
      "ord_3           category\n",
      "ord_4           category\n",
      "ord_5           category\n",
      "day                int64\n",
      "month              int64\n",
      "bin_3_counts    category\n",
      "bin_4_counts    category\n",
      "nom_0_counts    category\n",
      "nom_1_counts    category\n",
      "nom_2_counts    category\n",
      "nom_3_counts    category\n",
      "nom_4_counts    category\n",
      "nom_5_counts    category\n",
      "nom_6_counts    category\n",
      "nom_7_counts    category\n",
      "nom_8_counts    category\n",
      "nom_9_counts    category\n",
      "ord_1_counts    category\n",
      "ord_2_counts    category\n",
      "ord_3_counts    category\n",
      "ord_4_counts    category\n",
      "ord_5_counts    category\n",
      "dtype: object\n",
      "Non-numeric columns: Index([], dtype='object')\n"
     ]
    }
   ],
   "source": [
    "# Check the data types of the columns  \n",
    "print(X_train_stat.dtypes)  \n",
    "\n",
    "# Check for any non-numeric values in the DataFrame  \n",
    "non_numeric = X_train_stat.select_dtypes(include=['object']).columns  \n",
    "print(\"Non-numeric columns:\", non_numeric)"
   ]
  },
  {
   "cell_type": "markdown",
   "metadata": {},
   "source": [
    "Ordinal Encoding is a method used to convert categorical variables into a numerical format that machine learning algorithms can understand. This technique is particularly useful when the categorical data is ordinal, meaning that the categories have a clear ranking or order.\n",
    "\n",
    "Key Characteristics of Ordinal Encoding\n",
    "Ordered Categories: Ordinal encoding is used when the categorical values have a natural order. For example:\n",
    "\n",
    "Education Level: 'High School', 'Bachelor's', 'Master's', 'PhD'.\n",
    "Satisfaction Rating: 'Unsatisfied', 'Neutral', 'Satisfied'.\n",
    "Mapping: Each unique category is assigned an integer value based on its rank. For example:\n",
    "\n",
    "'High School' → 1\n",
    "'Bachelor's' → 2\n",
    "'Master's' → 3\n",
    "'PhD' → 4\n",
    "Maintain Relationships: By assigning numerical values, ordinal encoding maintains the ordinal relationships existing in the data. In the previous example, it indicates that a PhD is a higher level of education than a Bachelor's.\n",
    "\n",
    "When to Use Ordinal Encoding\n",
    "Appropriate for Ordinal Data Only: Since ordinal encoding assumes that the distances between the assigned integer values have meaning (e.g., the difference between 1 and 2 is the same as between 3 and 4), it should only be used for ordered categories.\n",
    "\n",
    "Simplicity and Interpretability: It can be a simple and effective way to encode categories without inflating the number of features, as would be the case with one-hot encoding."
   ]
  },
  {
   "cell_type": "code",
   "execution_count": 9,
   "metadata": {},
   "outputs": [
    {
     "name": "stdout",
     "output_type": "stream",
     "text": [
      "id                 int64\n",
      "bin_0              int64\n",
      "bin_1              int64\n",
      "bin_2              int64\n",
      "bin_3           category\n",
      "bin_4           category\n",
      "nom_0           category\n",
      "nom_1           category\n",
      "nom_2           category\n",
      "nom_3           category\n",
      "nom_4           category\n",
      "nom_5           category\n",
      "nom_6           category\n",
      "nom_7           category\n",
      "nom_8           category\n",
      "nom_9           category\n",
      "ord_0              int64\n",
      "ord_1           category\n",
      "ord_2           category\n",
      "ord_3           category\n",
      "ord_4           category\n",
      "ord_5           category\n",
      "day                int64\n",
      "month              int64\n",
      "bin_3_counts    category\n",
      "bin_4_counts    category\n",
      "nom_0_counts    category\n",
      "nom_1_counts    category\n",
      "nom_2_counts    category\n",
      "nom_3_counts    category\n",
      "nom_4_counts    category\n",
      "nom_5_counts    category\n",
      "nom_6_counts    category\n",
      "nom_7_counts    category\n",
      "nom_8_counts    category\n",
      "nom_9_counts    category\n",
      "ord_1_counts    category\n",
      "ord_2_counts    category\n",
      "ord_3_counts    category\n",
      "ord_4_counts    category\n",
      "ord_5_counts    category\n",
      "dtype: object\n",
      "Non-numeric columns: Index(['bin_3', 'bin_4', 'nom_0', 'nom_1', 'nom_2', 'nom_3', 'nom_4', 'nom_5',\n",
      "       'nom_6', 'nom_7', 'nom_8', 'nom_9', 'ord_1', 'ord_2', 'ord_3', 'ord_4',\n",
      "       'ord_5', 'bin_3_counts', 'bin_4_counts', 'nom_0_counts', 'nom_1_counts',\n",
      "       'nom_2_counts', 'nom_3_counts', 'nom_4_counts', 'nom_5_counts',\n",
      "       'nom_6_counts', 'nom_7_counts', 'nom_8_counts', 'nom_9_counts',\n",
      "       'ord_1_counts', 'ord_2_counts', 'ord_3_counts', 'ord_4_counts',\n",
      "       'ord_5_counts'],\n",
      "      dtype='object')\n",
      "id                int64\n",
      "bin_0             int64\n",
      "bin_1             int64\n",
      "bin_2             int64\n",
      "bin_3           float64\n",
      "bin_4           float64\n",
      "nom_0           float64\n",
      "nom_1           float64\n",
      "nom_2           float64\n",
      "nom_3           float64\n",
      "nom_4           float64\n",
      "nom_5           float64\n",
      "nom_6           float64\n",
      "nom_7           float64\n",
      "nom_8           float64\n",
      "nom_9           float64\n",
      "ord_0             int64\n",
      "ord_1           float64\n",
      "ord_2           float64\n",
      "ord_3           float64\n",
      "ord_4           float64\n",
      "ord_5           float64\n",
      "day               int64\n",
      "month             int64\n",
      "bin_3_counts    float64\n",
      "bin_4_counts    float64\n",
      "nom_0_counts    float64\n",
      "nom_1_counts    float64\n",
      "nom_2_counts    float64\n",
      "nom_3_counts    float64\n",
      "nom_4_counts    float64\n",
      "nom_5_counts    float64\n",
      "nom_6_counts    float64\n",
      "nom_7_counts    float64\n",
      "nom_8_counts    float64\n",
      "nom_9_counts    float64\n",
      "ord_1_counts    float64\n",
      "ord_2_counts    float64\n",
      "ord_3_counts    float64\n",
      "ord_4_counts    float64\n",
      "ord_5_counts    float64\n",
      "dtype: object\n"
     ]
    }
   ],
   "source": [
    "import pandas as pd  \n",
    "from sklearn.preprocessing import OrdinalEncoder\n",
    "\n",
    "# Assuming you have already loaded your DataFrame as X_train_stat  \n",
    "# Example: X_train_stat = pd.DataFrame(...)  \n",
    "\n",
    "# Step 1: Check data types of the DataFrame  \n",
    "print(X_train_stat.dtypes)  \n",
    "\n",
    "# Step 2: Identify non-numeric columns  \n",
    "non_numeric = X_train_stat.select_dtypes(include=['category']).columns  \n",
    "print(\"Non-numeric columns:\", non_numeric)  \n",
    "\n",
    "# Step 3: Apply Ordinal Encoding to the non-numeric columns  \n",
    "encoder = OrdinalEncoder()  \n",
    "X_train_stat[non_numeric] = encoder.fit_transform(X_train_stat[non_numeric])  \n",
    "\n",
    "# Step 4: Check the data types again to confirm conversion  \n",
    "print(X_train_stat.dtypes)"
   ]
  },
  {
   "cell_type": "code",
   "execution_count": 10,
   "metadata": {},
   "outputs": [
    {
     "data": {
      "text/html": [
       "<div>\n",
       "<style scoped>\n",
       "    .dataframe tbody tr th:only-of-type {\n",
       "        vertical-align: middle;\n",
       "    }\n",
       "\n",
       "    .dataframe tbody tr th {\n",
       "        vertical-align: top;\n",
       "    }\n",
       "\n",
       "    .dataframe thead th {\n",
       "        text-align: right;\n",
       "    }\n",
       "</style>\n",
       "<table border=\"1\" class=\"dataframe\">\n",
       "  <thead>\n",
       "    <tr style=\"text-align: right;\">\n",
       "      <th></th>\n",
       "      <th>id</th>\n",
       "      <th>bin_0</th>\n",
       "      <th>bin_1</th>\n",
       "      <th>bin_2</th>\n",
       "      <th>bin_3</th>\n",
       "      <th>bin_4</th>\n",
       "      <th>nom_0</th>\n",
       "      <th>nom_1</th>\n",
       "      <th>nom_2</th>\n",
       "      <th>nom_3</th>\n",
       "      <th>...</th>\n",
       "      <th>nom_5_counts</th>\n",
       "      <th>nom_6_counts</th>\n",
       "      <th>nom_7_counts</th>\n",
       "      <th>nom_8_counts</th>\n",
       "      <th>nom_9_counts</th>\n",
       "      <th>ord_1_counts</th>\n",
       "      <th>ord_2_counts</th>\n",
       "      <th>ord_3_counts</th>\n",
       "      <th>ord_4_counts</th>\n",
       "      <th>ord_5_counts</th>\n",
       "    </tr>\n",
       "  </thead>\n",
       "  <tbody>\n",
       "    <tr>\n",
       "      <th>0</th>\n",
       "      <td>0</td>\n",
       "      <td>0</td>\n",
       "      <td>0</td>\n",
       "      <td>0</td>\n",
       "      <td>1.0</td>\n",
       "      <td>1.0</td>\n",
       "      <td>1.0</td>\n",
       "      <td>5.0</td>\n",
       "      <td>5.0</td>\n",
       "      <td>3.0</td>\n",
       "      <td>...</td>\n",
       "      <td>200.0</td>\n",
       "      <td>513.0</td>\n",
       "      <td>605.0</td>\n",
       "      <td>2166.0</td>\n",
       "      <td>4535.0</td>\n",
       "      <td>3.0</td>\n",
       "      <td>2.0</td>\n",
       "      <td>9.0</td>\n",
       "      <td>3.0</td>\n",
       "      <td>30.0</td>\n",
       "    </tr>\n",
       "    <tr>\n",
       "      <th>1</th>\n",
       "      <td>1</td>\n",
       "      <td>0</td>\n",
       "      <td>1</td>\n",
       "      <td>0</td>\n",
       "      <td>1.0</td>\n",
       "      <td>1.0</td>\n",
       "      <td>1.0</td>\n",
       "      <td>4.0</td>\n",
       "      <td>3.0</td>\n",
       "      <td>5.0</td>\n",
       "      <td>...</td>\n",
       "      <td>68.0</td>\n",
       "      <td>378.0</td>\n",
       "      <td>718.0</td>\n",
       "      <td>900.0</td>\n",
       "      <td>3261.0</td>\n",
       "      <td>3.0</td>\n",
       "      <td>1.0</td>\n",
       "      <td>12.0</td>\n",
       "      <td>22.0</td>\n",
       "      <td>169.0</td>\n",
       "    </tr>\n",
       "    <tr>\n",
       "      <th>2</th>\n",
       "      <td>2</td>\n",
       "      <td>0</td>\n",
       "      <td>0</td>\n",
       "      <td>0</td>\n",
       "      <td>0.0</td>\n",
       "      <td>1.0</td>\n",
       "      <td>0.0</td>\n",
       "      <td>4.0</td>\n",
       "      <td>4.0</td>\n",
       "      <td>5.0</td>\n",
       "      <td>...</td>\n",
       "      <td>194.0</td>\n",
       "      <td>517.0</td>\n",
       "      <td>1175.0</td>\n",
       "      <td>2185.0</td>\n",
       "      <td>7195.0</td>\n",
       "      <td>0.0</td>\n",
       "      <td>4.0</td>\n",
       "      <td>9.0</td>\n",
       "      <td>21.0</td>\n",
       "      <td>167.0</td>\n",
       "    </tr>\n",
       "    <tr>\n",
       "      <th>3</th>\n",
       "      <td>3</td>\n",
       "      <td>0</td>\n",
       "      <td>1</td>\n",
       "      <td>0</td>\n",
       "      <td>0.0</td>\n",
       "      <td>1.0</td>\n",
       "      <td>2.0</td>\n",
       "      <td>4.0</td>\n",
       "      <td>5.0</td>\n",
       "      <td>0.0</td>\n",
       "      <td>...</td>\n",
       "      <td>90.0</td>\n",
       "      <td>518.0</td>\n",
       "      <td>1105.0</td>\n",
       "      <td>1667.0</td>\n",
       "      <td>10500.0</td>\n",
       "      <td>3.0</td>\n",
       "      <td>3.0</td>\n",
       "      <td>10.0</td>\n",
       "      <td>3.0</td>\n",
       "      <td>168.0</td>\n",
       "    </tr>\n",
       "    <tr>\n",
       "      <th>4</th>\n",
       "      <td>4</td>\n",
       "      <td>0</td>\n",
       "      <td>0</td>\n",
       "      <td>0</td>\n",
       "      <td>0.0</td>\n",
       "      <td>0.0</td>\n",
       "      <td>2.0</td>\n",
       "      <td>4.0</td>\n",
       "      <td>4.0</td>\n",
       "      <td>0.0</td>\n",
       "      <td>...</td>\n",
       "      <td>162.0</td>\n",
       "      <td>514.0</td>\n",
       "      <td>1085.0</td>\n",
       "      <td>1702.0</td>\n",
       "      <td>8567.0</td>\n",
       "      <td>3.0</td>\n",
       "      <td>5.0</td>\n",
       "      <td>12.0</td>\n",
       "      <td>21.0</td>\n",
       "      <td>187.0</td>\n",
       "    </tr>\n",
       "  </tbody>\n",
       "</table>\n",
       "<p>5 rows × 41 columns</p>\n",
       "</div>"
      ],
      "text/plain": [
       "   id  bin_0  bin_1  bin_2  bin_3  bin_4  nom_0  nom_1  nom_2  nom_3  ...  \\\n",
       "0   0      0      0      0    1.0    1.0    1.0    5.0    5.0    3.0  ...   \n",
       "1   1      0      1      0    1.0    1.0    1.0    4.0    3.0    5.0  ...   \n",
       "2   2      0      0      0    0.0    1.0    0.0    4.0    4.0    5.0  ...   \n",
       "3   3      0      1      0    0.0    1.0    2.0    4.0    5.0    0.0  ...   \n",
       "4   4      0      0      0    0.0    0.0    2.0    4.0    4.0    0.0  ...   \n",
       "\n",
       "   nom_5_counts  nom_6_counts  nom_7_counts  nom_8_counts  nom_9_counts  \\\n",
       "0         200.0         513.0         605.0        2166.0        4535.0   \n",
       "1          68.0         378.0         718.0         900.0        3261.0   \n",
       "2         194.0         517.0        1175.0        2185.0        7195.0   \n",
       "3          90.0         518.0        1105.0        1667.0       10500.0   \n",
       "4         162.0         514.0        1085.0        1702.0        8567.0   \n",
       "\n",
       "   ord_1_counts  ord_2_counts  ord_3_counts  ord_4_counts  ord_5_counts  \n",
       "0           3.0           2.0           9.0           3.0          30.0  \n",
       "1           3.0           1.0          12.0          22.0         169.0  \n",
       "2           0.0           4.0           9.0          21.0         167.0  \n",
       "3           3.0           3.0          10.0           3.0         168.0  \n",
       "4           3.0           5.0          12.0          21.0         187.0  \n",
       "\n",
       "[5 rows x 41 columns]"
      ]
     },
     "execution_count": 10,
     "metadata": {},
     "output_type": "execute_result"
    }
   ],
   "source": [
    "X_train_stat = pd.get_dummies(X_train_stat, drop_first=True) \n",
    "\n",
    "X_train_stat.head(5)\n"
   ]
  },
  {
   "cell_type": "code",
   "execution_count": 13,
   "metadata": {},
   "outputs": [
    {
     "name": "stdout",
     "output_type": "stream",
     "text": [
      "Accuracy :  0.6934833333333333\n"
     ]
    },
    {
     "name": "stderr",
     "output_type": "stream",
     "text": [
      "/home/sobanda/.local/lib/python3.10/site-packages/sklearn/linear_model/_logistic.py:460: ConvergenceWarning: lbfgs failed to converge (status=1):\n",
      "STOP: TOTAL NO. of ITERATIONS REACHED LIMIT.\n",
      "\n",
      "Increase the number of iterations (max_iter) or scale the data as shown in:\n",
      "    https://scikit-learn.org/stable/modules/preprocessing.html\n",
      "Please also refer to the documentation for alternative solver options:\n",
      "    https://scikit-learn.org/stable/modules/linear_model.html#logistic-regression\n",
      "  n_iter_i = _check_optimize_result(\n"
     ]
    }
   ],
   "source": [
    "logistic(X_train_stat,y)"
   ]
  },
  {
   "cell_type": "markdown",
   "metadata": {},
   "source": [
    "## Encoding cyclic features  <a id='6'></a>\n",
    "![](https://miro.medium.com/max/343/1*70cevmU8wNggGJEdLam1lw.png)\n",
    "\n",
    "Some of our features are cyclic in nature.ie day,month etc.\n",
    "\n",
    "A common method for encoding cyclical data is to transform the data into two dimensions using a sine and consine transformation.\n",
    "\n"
   ]
  },
  {
   "cell_type": "code",
   "execution_count": 14,
   "metadata": {},
   "outputs": [
    {
     "name": "stdout",
     "output_type": "stream",
     "text": [
      "CPU times: user 173 ms, sys: 8.98 ms, total: 182 ms\n",
      "Wall time: 181 ms\n"
     ]
    },
    {
     "data": {
      "text/html": [
       "<div>\n",
       "<style scoped>\n",
       "    .dataframe tbody tr th:only-of-type {\n",
       "        vertical-align: middle;\n",
       "    }\n",
       "\n",
       "    .dataframe tbody tr th {\n",
       "        vertical-align: top;\n",
       "    }\n",
       "\n",
       "    .dataframe thead th {\n",
       "        text-align: right;\n",
       "    }\n",
       "</style>\n",
       "<table border=\"1\" class=\"dataframe\">\n",
       "  <thead>\n",
       "    <tr style=\"text-align: right;\">\n",
       "      <th></th>\n",
       "      <th>day_sin</th>\n",
       "      <th>day_cos</th>\n",
       "    </tr>\n",
       "  </thead>\n",
       "  <tbody>\n",
       "    <tr>\n",
       "      <th>0</th>\n",
       "      <td>9.749279e-01</td>\n",
       "      <td>-0.222521</td>\n",
       "    </tr>\n",
       "    <tr>\n",
       "      <th>1</th>\n",
       "      <td>-2.449294e-16</td>\n",
       "      <td>1.000000</td>\n",
       "    </tr>\n",
       "    <tr>\n",
       "      <th>2</th>\n",
       "      <td>-2.449294e-16</td>\n",
       "      <td>1.000000</td>\n",
       "    </tr>\n",
       "  </tbody>\n",
       "</table>\n",
       "</div>"
      ],
      "text/plain": [
       "        day_sin   day_cos\n",
       "0  9.749279e-01 -0.222521\n",
       "1 -2.449294e-16  1.000000\n",
       "2 -2.449294e-16  1.000000"
      ]
     },
     "execution_count": 14,
     "metadata": {},
     "output_type": "execute_result"
    }
   ],
   "source": [
    "%%time\n",
    "\n",
    "X_train_cyclic=X.copy()\n",
    "columns=['day','month']\n",
    "for col in columns:\n",
    "    X_train_cyclic[col+'_sin']=np.sin((2*np.pi*X_train_cyclic[col])/max(X_train_cyclic[col]))\n",
    "    X_train_cyclic[col+'_cos']=np.cos((2*np.pi*X_train_cyclic[col])/max(X_train_cyclic[col]))\n",
    "X_train_cyclic=X_train_cyclic.drop(columns,axis=1)\n",
    "\n",
    "X_train_cyclic[['day_sin','day_cos']].head(3)"
   ]
  },
  {
   "cell_type": "markdown",
   "metadata": {},
   "source": [
    "Now we will use OnHotEncoder to encode other variables,then feed the data to our model."
   ]
  },
  {
   "cell_type": "code",
   "execution_count": 17,
   "metadata": {},
   "outputs": [
    {
     "name": "stdout",
     "output_type": "stream",
     "text": [
      "train data set has got 300000 rows and 316478 columns\n"
     ]
    }
   ],
   "source": [
    "one=OneHotEncoder()\n",
    "\n",
    "one.fit(X_train_cyclic)\n",
    "train=one.transform(X_train_cyclic)\n",
    "\n",
    "print('train data set has got {} rows and {} columns'.format(train.shape[0],train.shape[1]))\n"
   ]
  },
  {
   "cell_type": "code",
   "execution_count": 18,
   "metadata": {},
   "outputs": [
    {
     "name": "stdout",
     "output_type": "stream",
     "text": [
      "Accuracy :  0.7579833333333333\n"
     ]
    },
    {
     "name": "stderr",
     "output_type": "stream",
     "text": [
      "/home/sobanda/.local/lib/python3.10/site-packages/sklearn/linear_model/_logistic.py:460: ConvergenceWarning: lbfgs failed to converge (status=1):\n",
      "STOP: TOTAL NO. of ITERATIONS REACHED LIMIT.\n",
      "\n",
      "Increase the number of iterations (max_iter) or scale the data as shown in:\n",
      "    https://scikit-learn.org/stable/modules/preprocessing.html\n",
      "Please also refer to the documentation for alternative solver options:\n",
      "    https://scikit-learn.org/stable/modules/linear_model.html#logistic-regression\n",
      "  n_iter_i = _check_optimize_result(\n"
     ]
    }
   ],
   "source": [
    "logistic(train,y)"
   ]
  },
  {
   "cell_type": "markdown",
   "metadata": {},
   "source": [
    "## Method 5 : Target encoding <a id='7'></a>\n",
    " \t\t\n",
    "Target-based encoding is numerization of categorical variables via target. In this method, we replace the categorical variable with just one new numerical variable and replace each category of the categorical variable with its corresponding probability of the target (if categorical) or average of the target (if numerical). The main drawbacks of this method are its dependency to the distribution of the target, and its lower predictability power compare to the binary encoding method.\n",
    "\n",
    "for example,\n",
    "<table style=\"width : 20%\">\n",
    "    <tr>\n",
    "    <th>Country</th>\n",
    "    <th>Target</th>\n",
    "    </tr>\n",
    "    <tr>\n",
    "    <td>India</td>\n",
    "    <td>1</td>\n",
    "    </tr>\n",
    "    <tr>\n",
    "    <td>China</td>\n",
    "    <td>0</td>\n",
    "    </tr>\n",
    "    <tr>\n",
    "    <td>India</td>\n",
    "    <td>0</td>\n",
    "    </tr>\n",
    "    <tr>\n",
    "    <td>China</td>\n",
    "    <td>1</td>\n",
    "    </tr>\n",
    "    </tr>\n",
    "    <tr>\n",
    "    <td>India</td>\n",
    "    <td>1</td>\n",
    "    </tr>\n",
    "</table>\n",
    "\n"
   ]
  },
  {
   "cell_type": "markdown",
   "metadata": {},
   "source": [
    "Encoding for India = [Number of true targets under the label India/ Total Number of targets under the label India] \n",
    "which is 2/3 = 0.66\n",
    "\n",
    "<table style=\"width : 20%\">\n",
    "    <tr>\n",
    "    <th>Country</th>\n",
    "    <th>Target</th>\n",
    "    </tr>\n",
    "    <tr>\n",
    "    <td>India</td>\n",
    "    <td>0.66</td>\n",
    "    </tr>\n",
    "    <tr>\n",
    "    <td>China</td>\n",
    "    <td>0.5</td>\n",
    "    </tr>\n",
    "</table>\n",
    "\n"
   ]
  },
  {
   "cell_type": "code",
   "execution_count": 19,
   "metadata": {},
   "outputs": [
    {
     "name": "stdout",
     "output_type": "stream",
     "text": [
      "CPU times: user 3min 56s, sys: 117 ms, total: 3min 56s\n",
      "Wall time: 3min 56s\n"
     ]
    },
    {
     "data": {
      "text/html": [
       "<div>\n",
       "<style scoped>\n",
       "    .dataframe tbody tr th:only-of-type {\n",
       "        vertical-align: middle;\n",
       "    }\n",
       "\n",
       "    .dataframe tbody tr th {\n",
       "        vertical-align: top;\n",
       "    }\n",
       "\n",
       "    .dataframe thead th {\n",
       "        text-align: right;\n",
       "    }\n",
       "</style>\n",
       "<table border=\"1\" class=\"dataframe\">\n",
       "  <thead>\n",
       "    <tr style=\"text-align: right;\">\n",
       "      <th></th>\n",
       "      <th>id</th>\n",
       "      <th>bin_0</th>\n",
       "      <th>bin_1</th>\n",
       "      <th>bin_2</th>\n",
       "      <th>bin_3</th>\n",
       "      <th>bin_4</th>\n",
       "      <th>nom_0</th>\n",
       "      <th>nom_1</th>\n",
       "      <th>nom_2</th>\n",
       "      <th>nom_3</th>\n",
       "      <th>...</th>\n",
       "      <th>nom_9</th>\n",
       "      <th>ord_0</th>\n",
       "      <th>ord_1</th>\n",
       "      <th>ord_2</th>\n",
       "      <th>ord_3</th>\n",
       "      <th>ord_4</th>\n",
       "      <th>ord_5</th>\n",
       "      <th>day</th>\n",
       "      <th>month</th>\n",
       "      <th>target</th>\n",
       "    </tr>\n",
       "  </thead>\n",
       "  <tbody>\n",
       "    <tr>\n",
       "      <th>0</th>\n",
       "      <td>0</td>\n",
       "      <td>0</td>\n",
       "      <td>0</td>\n",
       "      <td>0</td>\n",
       "      <td>0.302537</td>\n",
       "      <td>0.290107</td>\n",
       "      <td>0.327145</td>\n",
       "      <td>0.360978</td>\n",
       "      <td>0.307162</td>\n",
       "      <td>0.242813</td>\n",
       "      <td>...</td>\n",
       "      <td>0.368421</td>\n",
       "      <td>2</td>\n",
       "      <td>0.403885</td>\n",
       "      <td>0.257877</td>\n",
       "      <td>0.306993</td>\n",
       "      <td>0.208354</td>\n",
       "      <td>0.401186</td>\n",
       "      <td>0.322048</td>\n",
       "      <td>0.244432</td>\n",
       "      <td>0</td>\n",
       "    </tr>\n",
       "    <tr>\n",
       "      <th>1</th>\n",
       "      <td>1</td>\n",
       "      <td>0</td>\n",
       "      <td>1</td>\n",
       "      <td>0</td>\n",
       "      <td>0.302537</td>\n",
       "      <td>0.290107</td>\n",
       "      <td>0.327145</td>\n",
       "      <td>0.290054</td>\n",
       "      <td>0.359209</td>\n",
       "      <td>0.289954</td>\n",
       "      <td>...</td>\n",
       "      <td>0.076923</td>\n",
       "      <td>1</td>\n",
       "      <td>0.403885</td>\n",
       "      <td>0.326315</td>\n",
       "      <td>0.206599</td>\n",
       "      <td>0.186877</td>\n",
       "      <td>0.303880</td>\n",
       "      <td>0.340292</td>\n",
       "      <td>0.327496</td>\n",
       "      <td>0</td>\n",
       "    </tr>\n",
       "    <tr>\n",
       "      <th>2</th>\n",
       "      <td>2</td>\n",
       "      <td>0</td>\n",
       "      <td>0</td>\n",
       "      <td>0</td>\n",
       "      <td>0.309384</td>\n",
       "      <td>0.290107</td>\n",
       "      <td>0.241790</td>\n",
       "      <td>0.290054</td>\n",
       "      <td>0.293085</td>\n",
       "      <td>0.289954</td>\n",
       "      <td>...</td>\n",
       "      <td>0.172414</td>\n",
       "      <td>1</td>\n",
       "      <td>0.317175</td>\n",
       "      <td>0.403126</td>\n",
       "      <td>0.306993</td>\n",
       "      <td>0.351864</td>\n",
       "      <td>0.206843</td>\n",
       "      <td>0.340292</td>\n",
       "      <td>0.244432</td>\n",
       "      <td>0</td>\n",
       "    </tr>\n",
       "    <tr>\n",
       "      <th>3</th>\n",
       "      <td>3</td>\n",
       "      <td>0</td>\n",
       "      <td>1</td>\n",
       "      <td>0</td>\n",
       "      <td>0.309384</td>\n",
       "      <td>0.290107</td>\n",
       "      <td>0.351052</td>\n",
       "      <td>0.290054</td>\n",
       "      <td>0.307162</td>\n",
       "      <td>0.339793</td>\n",
       "      <td>...</td>\n",
       "      <td>0.227273</td>\n",
       "      <td>1</td>\n",
       "      <td>0.403885</td>\n",
       "      <td>0.360961</td>\n",
       "      <td>0.330148</td>\n",
       "      <td>0.208354</td>\n",
       "      <td>0.355985</td>\n",
       "      <td>0.322048</td>\n",
       "      <td>0.255729</td>\n",
       "      <td>1</td>\n",
       "    </tr>\n",
       "  </tbody>\n",
       "</table>\n",
       "<p>4 rows × 25 columns</p>\n",
       "</div>"
      ],
      "text/plain": [
       "   id  bin_0  bin_1  bin_2     bin_3     bin_4     nom_0     nom_1     nom_2  \\\n",
       "0   0      0      0      0  0.302537  0.290107  0.327145  0.360978  0.307162   \n",
       "1   1      0      1      0  0.302537  0.290107  0.327145  0.290054  0.359209   \n",
       "2   2      0      0      0  0.309384  0.290107  0.241790  0.290054  0.293085   \n",
       "3   3      0      1      0  0.309384  0.290107  0.351052  0.290054  0.307162   \n",
       "\n",
       "      nom_3  ...     nom_9  ord_0     ord_1     ord_2     ord_3     ord_4  \\\n",
       "0  0.242813  ...  0.368421      2  0.403885  0.257877  0.306993  0.208354   \n",
       "1  0.289954  ...  0.076923      1  0.403885  0.326315  0.206599  0.186877   \n",
       "2  0.289954  ...  0.172414      1  0.317175  0.403126  0.306993  0.351864   \n",
       "3  0.339793  ...  0.227273      1  0.403885  0.360961  0.330148  0.208354   \n",
       "\n",
       "      ord_5       day     month  target  \n",
       "0  0.401186  0.322048  0.244432       0  \n",
       "1  0.303880  0.340292  0.327496       0  \n",
       "2  0.206843  0.340292  0.244432       0  \n",
       "3  0.355985  0.322048  0.255729       1  \n",
       "\n",
       "[4 rows x 25 columns]"
      ]
     },
     "execution_count": 19,
     "metadata": {},
     "output_type": "execute_result"
    }
   ],
   "source": [
    "%%time\n",
    "\n",
    "X_target=df_train.copy()\n",
    "X_target['day']=X_target['day'].astype('object')\n",
    "X_target['month']=X_target['month'].astype('object')\n",
    "for col in X_target.columns:\n",
    "    if (X_target[col].dtype=='object'):\n",
    "        target= dict ( X_target.groupby(col)['target'].agg('sum')/X_target.groupby(col)['target'].agg('count'))\n",
    "        X_target[col]=X_target[col].replace(target).values\n",
    "        \n",
    "    \n",
    "    \n",
    "\n",
    "X_target.head(4)"
   ]
  },
  {
   "cell_type": "code",
   "execution_count": 29,
   "metadata": {},
   "outputs": [
    {
     "name": "stdout",
     "output_type": "stream",
     "text": [
      "Accuracy :  0.6946166666666667\n"
     ]
    }
   ],
   "source": [
    "logistic(X_target.drop('target',axis=1),y)"
   ]
  },
  {
   "cell_type": "markdown",
   "metadata": {},
   "source": [
    "### K-Fold target encoding <a id='8' ></a>\n",
    "\n",
    "k-fold target encoding can be applied to reduce the overfitting. In this method, we divide the dataset into the k-folds, here we consider 5 folds. Fig.3 shows the first round of the 5 fold cross-validation. We calculate mean-target for fold 2, 3, 4 and 5 and we use the calculated values, mean_A = 0.556 and mean_B = 0.285 to estimate mean encoding for the fold-1."
   ]
  },
  {
   "cell_type": "markdown",
   "metadata": {},
   "source": [
    "![](https://miro.medium.com/max/1955/1*ZKD4eZXzd_FdN0SQDszFVQ.png)"
   ]
  },
  {
   "cell_type": "code",
   "execution_count": 30,
   "metadata": {},
   "outputs": [],
   "source": [
    "X['target']=y\n",
    "cols=X.drop(['target','id'],axis=1).columns"
   ]
  },
  {
   "cell_type": "code",
   "execution_count": 31,
   "metadata": {},
   "outputs": [
    {
     "name": "stdout",
     "output_type": "stream",
     "text": [
      "CPU times: user 4min 55s, sys: 1.86 s, total: 4min 57s\n",
      "Wall time: 4min 57s\n"
     ]
    }
   ],
   "source": [
    "%%time\n",
    "\n",
    "X_fold=X.copy()\n",
    "X_fold[['ord_0','day','month']]=X_fold[['ord_0','day','month']].astype('object')\n",
    "X_fold[['bin_3','bin_4']]=X_fold[['bin_3','bin_4']].replace({'Y':1,'N':0,'T':1,\"F\":0})\n",
    "kf = KFold(n_splits = 5, shuffle = False, random_state=2019)\n",
    "for train_ind,val_ind in kf.split(X):\n",
    "    for col in cols:\n",
    "        if(X_fold[col].dtype=='object'):\n",
    "            replaced=dict(X.iloc[train_ind][[col,'target']].groupby(col)['target'].mean())\n",
    "            X_fold.loc[val_ind,col]=X_fold.iloc[val_ind][col].replace(replaced).values\n",
    "\n",
    "            "
   ]
  },
  {
   "cell_type": "code",
   "execution_count": 32,
   "metadata": {},
   "outputs": [
    {
     "data": {
      "text/html": [
       "<div>\n",
       "<style scoped>\n",
       "    .dataframe tbody tr th:only-of-type {\n",
       "        vertical-align: middle;\n",
       "    }\n",
       "\n",
       "    .dataframe tbody tr th {\n",
       "        vertical-align: top;\n",
       "    }\n",
       "\n",
       "    .dataframe thead th {\n",
       "        text-align: right;\n",
       "    }\n",
       "</style>\n",
       "<table border=\"1\" class=\"dataframe\">\n",
       "  <thead>\n",
       "    <tr style=\"text-align: right;\">\n",
       "      <th></th>\n",
       "      <th>id</th>\n",
       "      <th>bin_0</th>\n",
       "      <th>bin_1</th>\n",
       "      <th>bin_2</th>\n",
       "      <th>bin_3</th>\n",
       "      <th>bin_4</th>\n",
       "      <th>nom_0</th>\n",
       "      <th>nom_1</th>\n",
       "      <th>nom_2</th>\n",
       "      <th>nom_3</th>\n",
       "      <th>...</th>\n",
       "      <th>nom_9</th>\n",
       "      <th>ord_0</th>\n",
       "      <th>ord_1</th>\n",
       "      <th>ord_2</th>\n",
       "      <th>ord_3</th>\n",
       "      <th>ord_4</th>\n",
       "      <th>ord_5</th>\n",
       "      <th>day</th>\n",
       "      <th>month</th>\n",
       "      <th>target</th>\n",
       "    </tr>\n",
       "  </thead>\n",
       "  <tbody>\n",
       "    <tr>\n",
       "      <th>0</th>\n",
       "      <td>0</td>\n",
       "      <td>0</td>\n",
       "      <td>0</td>\n",
       "      <td>0</td>\n",
       "      <td>1</td>\n",
       "      <td>1</td>\n",
       "      <td>0.327356</td>\n",
       "      <td>0.360281</td>\n",
       "      <td>0.305929</td>\n",
       "      <td>0.24171</td>\n",
       "      <td>...</td>\n",
       "      <td>0.5</td>\n",
       "      <td>0.334926</td>\n",
       "      <td>0.403542</td>\n",
       "      <td>0.259103</td>\n",
       "      <td>0.307031</td>\n",
       "      <td>0.211418</td>\n",
       "      <td>0.412888</td>\n",
       "      <td>0.323473</td>\n",
       "      <td>0.244538</td>\n",
       "      <td>0</td>\n",
       "    </tr>\n",
       "    <tr>\n",
       "      <th>1</th>\n",
       "      <td>1</td>\n",
       "      <td>0</td>\n",
       "      <td>1</td>\n",
       "      <td>0</td>\n",
       "      <td>1</td>\n",
       "      <td>1</td>\n",
       "      <td>0.327356</td>\n",
       "      <td>0.290501</td>\n",
       "      <td>0.358107</td>\n",
       "      <td>0.289501</td>\n",
       "      <td>...</td>\n",
       "      <td>0.125</td>\n",
       "      <td>0.278366</td>\n",
       "      <td>0.403542</td>\n",
       "      <td>0.327796</td>\n",
       "      <td>0.208194</td>\n",
       "      <td>0.185704</td>\n",
       "      <td>0.293144</td>\n",
       "      <td>0.341711</td>\n",
       "      <td>0.327219</td>\n",
       "      <td>0</td>\n",
       "    </tr>\n",
       "    <tr>\n",
       "      <th>2</th>\n",
       "      <td>2</td>\n",
       "      <td>0</td>\n",
       "      <td>0</td>\n",
       "      <td>0</td>\n",
       "      <td>0</td>\n",
       "      <td>1</td>\n",
       "      <td>0.242135</td>\n",
       "      <td>0.290501</td>\n",
       "      <td>0.293881</td>\n",
       "      <td>0.289501</td>\n",
       "      <td>...</td>\n",
       "      <td>0.166667</td>\n",
       "      <td>0.278366</td>\n",
       "      <td>0.316665</td>\n",
       "      <td>0.402135</td>\n",
       "      <td>0.307031</td>\n",
       "      <td>0.354919</td>\n",
       "      <td>0.208748</td>\n",
       "      <td>0.341711</td>\n",
       "      <td>0.244538</td>\n",
       "      <td>0</td>\n",
       "    </tr>\n",
       "    <tr>\n",
       "      <th>3</th>\n",
       "      <td>3</td>\n",
       "      <td>0</td>\n",
       "      <td>1</td>\n",
       "      <td>0</td>\n",
       "      <td>0</td>\n",
       "      <td>1</td>\n",
       "      <td>0.350536</td>\n",
       "      <td>0.290501</td>\n",
       "      <td>0.305929</td>\n",
       "      <td>0.340791</td>\n",
       "      <td>...</td>\n",
       "      <td>0.233333</td>\n",
       "      <td>0.278366</td>\n",
       "      <td>0.403542</td>\n",
       "      <td>0.361036</td>\n",
       "      <td>0.330519</td>\n",
       "      <td>0.211418</td>\n",
       "      <td>0.358066</td>\n",
       "      <td>0.323473</td>\n",
       "      <td>0.255791</td>\n",
       "      <td>1</td>\n",
       "    </tr>\n",
       "    <tr>\n",
       "      <th>4</th>\n",
       "      <td>4</td>\n",
       "      <td>0</td>\n",
       "      <td>0</td>\n",
       "      <td>0</td>\n",
       "      <td>0</td>\n",
       "      <td>0</td>\n",
       "      <td>0.350536</td>\n",
       "      <td>0.290501</td>\n",
       "      <td>0.293881</td>\n",
       "      <td>0.340791</td>\n",
       "      <td>...</td>\n",
       "      <td>0.137931</td>\n",
       "      <td>0.278366</td>\n",
       "      <td>0.403542</td>\n",
       "      <td>0.225265</td>\n",
       "      <td>0.208194</td>\n",
       "      <td>0.354919</td>\n",
       "      <td>0.410066</td>\n",
       "      <td>0.341711</td>\n",
       "      <td>0.327219</td>\n",
       "      <td>0</td>\n",
       "    </tr>\n",
       "  </tbody>\n",
       "</table>\n",
       "<p>5 rows × 25 columns</p>\n",
       "</div>"
      ],
      "text/plain": [
       "   id  bin_0  bin_1  bin_2  bin_3  bin_4     nom_0     nom_1     nom_2  \\\n",
       "0   0      0      0      0      1      1  0.327356  0.360281  0.305929   \n",
       "1   1      0      1      0      1      1  0.327356  0.290501  0.358107   \n",
       "2   2      0      0      0      0      1  0.242135  0.290501  0.293881   \n",
       "3   3      0      1      0      0      1  0.350536  0.290501  0.305929   \n",
       "4   4      0      0      0      0      0  0.350536  0.290501  0.293881   \n",
       "\n",
       "      nom_3  ...     nom_9     ord_0     ord_1     ord_2     ord_3     ord_4  \\\n",
       "0   0.24171  ...       0.5  0.334926  0.403542  0.259103  0.307031  0.211418   \n",
       "1  0.289501  ...     0.125  0.278366  0.403542  0.327796  0.208194  0.185704   \n",
       "2  0.289501  ...  0.166667  0.278366  0.316665  0.402135  0.307031  0.354919   \n",
       "3  0.340791  ...  0.233333  0.278366  0.403542  0.361036  0.330519  0.211418   \n",
       "4  0.340791  ...  0.137931  0.278366  0.403542  0.225265  0.208194  0.354919   \n",
       "\n",
       "      ord_5       day     month target  \n",
       "0  0.412888  0.323473  0.244538      0  \n",
       "1  0.293144  0.341711  0.327219      0  \n",
       "2  0.208748  0.341711  0.244538      0  \n",
       "3  0.358066  0.323473  0.255791      1  \n",
       "4  0.410066  0.341711  0.327219      0  \n",
       "\n",
       "[5 rows x 25 columns]"
      ]
     },
     "execution_count": 32,
     "metadata": {},
     "output_type": "execute_result"
    }
   ],
   "source": [
    "X_fold.head()"
   ]
  },
  {
   "cell_type": "markdown",
   "metadata": {},
   "source": [
    "# Summary <a id='5'></a>\n",
    "\n",
    "Here you can see the summary of our model performance against each of the encoding techniques we have used.\n",
    "It is clear that OnHotEncoder together with cyclic feature encoding yielded maximum accuracy.\n",
    "\n",
    "<table style=\"width : 50%\">\n",
    "    <tr>\n",
    "    <th>Encoding</th>\n",
    "    <th>Score</th>\n",
    "    <th>Wall time</th>\n",
    "    </tr>\n",
    "    <tr>\n",
    "    <td>Label Encoding</td>\n",
    "    <td>0.692</td>\n",
    "    <td> 973 ms</td>\n",
    "    </tr>\n",
    "    <tr>\n",
    "    <td>OnHotEncoder</td>\n",
    "    <td>0.759</td>\n",
    "    <td>1.84 s</td>\n",
    "    </tr>\n",
    "    <tr>\n",
    "    <td>Feature Hashing</td>\n",
    "    <td>0.751</td>\n",
    "    <td>4.96 s</td>\n",
    "    </tr>\n",
    "    <tr>\n",
    "    <td>Dataset statistic encoding</td>\n",
    "    <td>0.694</td>\n",
    "    <td>894 ms</td>\n",
    "    </tr>\n",
    "    </tr>\n",
    "    <tr>\n",
    "    <td>Cyclic + OnHotEncoding</td>\n",
    "    <td>0.759</td>\n",
    "    <td>431 ms</td>\n",
    "    </tr>\n",
    "    </tr>\n",
    "    <tr>\n",
    "    <td>Target encoding</td>\n",
    "    <td>0.694</td>\n",
    "    <td>2min 5s</td>\n",
    "    </tr>\n",
    "    \n",
    "</table>\n",
    "    "
   ]
  },
  {
   "cell_type": "markdown",
   "metadata": {},
   "source": [
    "**You can try two or more of this approaches together,and encode the dataset in suitable way to acheive higher accuracy**\n"
   ]
  },
  {
   "cell_type": "code",
   "execution_count": null,
   "metadata": {},
   "outputs": [],
   "source": []
  }
 ],
 "metadata": {
  "kernelspec": {
   "display_name": "Python 3 (ipykernel)",
   "language": "python",
   "name": "python3"
  },
  "language_info": {
   "codemirror_mode": {
    "name": "ipython",
    "version": 3
   },
   "file_extension": ".py",
   "mimetype": "text/x-python",
   "name": "python",
   "nbconvert_exporter": "python",
   "pygments_lexer": "ipython3",
   "version": "3.10.12"
  }
 },
 "nbformat": 4,
 "nbformat_minor": 4
}
